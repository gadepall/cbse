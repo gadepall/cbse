{
  "nbformat": 4,
  "nbformat_minor": 0,
  "metadata": {
    "colab": {
      "name": "Untitled14.ipynb",
      "provenance": [],
      "authorship_tag": "ABX9TyPt1nUd7of0fBNH2GP/N8cc",
      "include_colab_link": true
    },
    "kernelspec": {
      "name": "python3",
      "display_name": "Python 3"
    },
    "language_info": {
      "name": "python"
    }
  },
  "cells": [
    {
      "cell_type": "markdown",
      "metadata": {
        "id": "view-in-github",
        "colab_type": "text"
      },
      "source": [
        "<a href=\"https://colab.research.google.com/github/Vallidevibolla/704-Valli-Devi-assignment/blob/main/Untitled14.ipynb\" target=\"_parent\"><img src=\"https://colab.research.google.com/assets/colab-badge.svg\" alt=\"Open In Colab\"/></a>"
      ]
    },
    {
      "cell_type": "code",
      "metadata": {
        "id": "oWg02u3ni-s5",
        "colab": {
          "base_uri": "https://localhost:8080/",
          "height": 330
        },
        "outputId": "67d4aaea-82dc-4c23-d7e9-844c6c5fd0f8"
      },
      "source": [
        "import numpy as np\n",
        "import matplotlib.pyplot as plt\n",
        "\n",
        "import numpy as np\n",
        "\n",
        "A=np.array([[-3/2,3]])\n",
        "B=np.array([[6,-2]])\n",
        "C=np.array([[-3,4]])\n",
        "\n",
        "M=print(np.concatenate((A-B,B-C)).T)\n",
        "\n",
        "# import sympy\n",
        "import sympy\n",
        "  \n",
        "# find the reduced row echelon form\n",
        "sympy.Matrix([[-7.5,5],[9,-6]]).rref()\n",
        "  \n",
        "# find the rank of matrix\n",
        "print(\"Rank of matrix :\",sympy.Matrix([[-7.5,5],[9,-6]]).rank())\n",
        "\n",
        "\n",
        "\n",
        "#Generate line points\n",
        "def line_gen(A,B):\n",
        "  len =10\n",
        "  x_AB = np.zeros((2,len))\n",
        "  lam_1 = np.linspace(0,1,len)\n",
        "  for i in range(len):\n",
        "    temp1 = A + lam_1[i]*(B-A)\n",
        "    x_AB[:,i]= temp1.T\n",
        "  return x_AB\n",
        "  \n",
        "#Defining the points\n",
        "A = np.array([-3/2,3])\n",
        "B = np.array([6,-2])\n",
        "C = np.array([-3,4])\n",
        "\n",
        "#Generating lines\n",
        "x_AB = line_gen(A,B)\n",
        "x_BC = line_gen(B,C)\n",
        "x_CA = line_gen(C,A)\n",
        "\n",
        "#Plotting all lines\n",
        "plt.plot(x_AB[0,:],x_AB[1,:],label='$AB$')\n",
        "plt.plot(x_BC[0,:],x_BC[1,:],label='$BC$')\n",
        "plt.plot(x_CA[0,:],x_CA[1,:],label='$CA$')\n",
        "\n",
        "plt.plot(A[0], A[1], 'o')\n",
        "plt.text(A[0] * (1), A[1] * (1 + 0.1) , 'A')\n",
        "plt.plot(B[0], B[1], 'o')\n",
        "plt.text(B[0] * (1 - 0.2), B[1] * (1 + 0.1) , 'B')\n",
        "plt.plot(C[0], C[1], 'o')\n",
        "plt.text(C[0] * (1 + 0.03), C[1] * (1 - 0.1) , 'C')\n",
        "\n",
        "plt.xlabel('$x$')\n",
        "plt.ylabel('$y$')\n",
        "plt.legend(loc='best')\n",
        "plt.grid() # minor\n"
      ],
      "execution_count": 9,
      "outputs": [
        {
          "output_type": "stream",
          "text": [
            "[[-7.5  9. ]\n",
            " [ 5.  -6. ]]\n",
            "Rank of matrix : 1\n"
          ],
          "name": "stdout"
        },
        {
          "output_type": "display_data",
          "data": {
            "image/png": "[encoded data removed]",
            "text/plain": [
              "<Figure size 432x288 with 1 Axes>"
            ]
          },
          "metadata": {
            "tags": [],
            "needs_background": "light"
          }
        }
      ]
    }
  ]
}