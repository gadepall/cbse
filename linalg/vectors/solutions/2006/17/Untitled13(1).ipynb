{
  "nbformat": 4,
  "nbformat_minor": 0,
  "metadata": {
    "colab": {
      "name": "Untitled15.ipynb",
      "provenance": []
    },
    "kernelspec": {
      "name": "python3",
      "display_name": "Python 3"
    },
    "language_info": {
      "name": "python"
    }
  },
  "cells": [
    {
      "cell_type": "code",
      "metadata": {
        "colab": {
          "base_uri": "https://localhost:8080/",
          "height": 334
        },
        "id": "8ul3MrrRqtSh",
        "outputId": "3ab3427a-6c79-4551-ac86-854fe2d7cc52"
      },
      "source": [
        "import numpy as np\n",
        "import matplotlib.pyplot as plt\n",
        "\n",
        "import sympy\n",
        "\n",
        "from sympy import*\n",
        "\n",
        "p = -1\n",
        "A = np.array([[-5,1]])\n",
        "B = np.array([[1,p]])\n",
        "C = np.array([[4,-2]])\n",
        "\n",
        "M=print(np.concatenate((B-A,C-A)).T)\n",
        "\n",
        "# import sympy\n",
        "import sympy\n",
        "  \n",
        "# find the reduced row echelon form\n",
        "sympy.Matrix([[6,-2],[9,-3]]).rref()\n",
        "  \n",
        "# find the rank of matrix\n",
        "print(\"Rank of matrix :\",sympy.Matrix([[6,-2],[9,-3]]).rank())\n",
        "\n",
        "\n",
        "#Generate line points\n",
        "def line_gen(A,B):\n",
        "  len =10\n",
        "  x_AB = np.zeros((2,len))\n",
        "  lam_1 = np.linspace(0,1,len)\n",
        "  for i in range(len):\n",
        "    temp1 = A + lam_1[i]*(B-A)\n",
        "    x_AB[:,i]= temp1.T\n",
        "  return x_AB\n",
        "  \n",
        "  \n",
        "#Defining the points\n",
        "A = np.array([-5,1])\n",
        "B = np.array([1,-1])\n",
        "C = np.array([4,-2])\n",
        "\n",
        "#Generating lines\n",
        "x_AB = line_gen(A,B)\n",
        "x_BC = line_gen(B,C)\n",
        "x_CA = line_gen(C,A)\n",
        "\n",
        "#Plotting all lines\n",
        "plt.plot(x_AB[0,:],x_AB[1,:],label='$AB$')\n",
        "plt.plot(x_BC[0,:],x_BC[1,:],label='$BC$')\n",
        "plt.plot(x_CA[0,:],x_CA[1,:],label='$CA$')\n",
        "\n",
        "plt.plot(A[0], A[1], 'o')\n",
        "plt.text(A[0] * (1), A[1] * (1 + 0.1) , 'A')\n",
        "plt.plot(B[0], B[1], 'o')\n",
        "plt.text(B[0] * (1 - 0.2), B[1] * (1 + 0.1) , 'B')\n",
        "plt.plot(C[0], C[1], 'o')\n",
        "plt.text(C[0] * (1 + 0.03), C[1] * (1 - 0.1) , 'C')\n",
        "\n",
        "plt.xlabel('$x$')\n",
        "plt.ylabel('$y$')\n",
        "plt.legend(loc='best')\n",
        "plt.grid() # minor"
      ],
      "execution_count": 1,
      "outputs": [
        {
          "output_type": "stream",
          "text": [
            "[[ 6  9]\n",
            " [-2 -3]]\n",
            "Rank of matrix : 1\n"
          ],
          "name": "stdout"
        },
        {
          "output_type": "display_data",
          "data": {
            "image/png": "[encoded data removed]",
            "text/plain": [
              "<Figure size 432x288 with 1 Axes>"
            ]
          },
          "metadata": {
            "tags": [],
            "needs_background": "light"
          }
        }
      ]
    }
  ]
}